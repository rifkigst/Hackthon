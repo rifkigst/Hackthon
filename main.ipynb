{
 "cells": [
  {
   "cell_type": "code",
   "execution_count": 124,
   "source": [
    "# Import Package\r\n",
    "import pandas as pd\r\n",
    "import numpy as np\r\n",
    "import pandas_profiling\r\n",
    "\r\n",
    "from datetime import datetime\r\n",
    "from scipy.stats import skew  # for some statistics\r\n",
    "from scipy.special import boxcox1p\r\n",
    "from scipy.stats import boxcox_normmax\r\n",
    "from sklearn.linear_model import ElasticNetCV, LassoCV, RidgeCV\r\n",
    "from sklearn.ensemble import GradientBoostingRegressor\r\n",
    "from sklearn.svm import SVR\r\n",
    "from sklearn.pipeline import make_pipeline\r\n",
    "from sklearn.preprocessing import RobustScaler\r\n",
    "from sklearn.model_selection import KFold, cross_val_score\r\n",
    "from sklearn.metrics import mean_squared_error\r\n",
    "from mlxtend.regressor import StackingCVRegressor\r\n",
    "from xgboost import XGBRegressor\r\n",
    "from lightgbm import LGBMRegressor\r\n",
    "import matplotlib.pyplot as plt\r\n",
    "import scipy.stats as stats\r\n",
    "import sklearn.linear_model as linear_model\r\n",
    "import seaborn as sns\r\n",
    "from sklearn.manifold import TSNE\r\n",
    "from sklearn.cluster import KMeans\r\n",
    "from sklearn.decomposition import PCA\r\n",
    "from sklearn.preprocessing import StandardScaler\r\n",
    "\r\n",
    "import warnings\r\n",
    "warnings.filterwarnings('ignore')\r\n",
    "\r\n",
    "# pip i ipywidgets\r\n"
   ],
   "outputs": [],
   "metadata": {}
  },
  {
   "cell_type": "code",
   "execution_count": 125,
   "source": [
    "# Load Data\r\n",
    "\r\n",
    "train_online = pd.read_csv('Dataset/train-online_booking_2020.csv')\r\n",
    "train_offline = pd.read_csv('Dataset/train-TPK_Hotel_berbintang_2020.csv')\r\n",
    "\r\n",
    "test_online = pd.read_csv('Dataset/test-online_booking_2021.csv')\r\n",
    "test_offline = pd.read_csv('Dataset/test-TPK_Hotel_berbintang_2021.csv')\r\n",
    "submission = pd.read_csv('Dataset/sample-submission.csv')\r\n",
    "print(\"Data is loaded!\")\r\n"
   ],
   "outputs": [
    {
     "output_type": "stream",
     "name": "stdout",
     "text": [
      "Data is loaded!\n"
     ]
    }
   ],
   "metadata": {}
  },
  {
   "cell_type": "code",
   "execution_count": 126,
   "source": [
    "#Report of Data\r\n",
    "# train_online_report = pandas_profiling.ProfileReport(train_online)\r\n",
    "# test_online_report = pandas_profiling.ProfileReport(test_online)\r\n",
    "\r\n",
    "# train_offline_report = pandas_profiling.ProfileReport(train_offline)\r\n",
    "# test_offline_report = pandas_profiling.ProfileReport(test_offline)\r\n",
    "# train_online_report"
   ],
   "outputs": [],
   "metadata": {}
  },
  {
   "cell_type": "code",
   "execution_count": 127,
   "source": [
    "train_online['used_room'] = train_online.room_total - train_online.all_available_room\r\n",
    "test_online['used_room'] = test_online.room_total - test_online.all_available_room\r\n",
    "\r\n",
    "encodedCategirical = {\"klasifikasi\": {\"Rated\": '1', \"Not Rated\": '0'}}\r\n",
    "train_online = train_online.replace(encodedCategirical)\r\n",
    "test_online = test_online.replace(encodedCategirical)\r\n",
    "\r\n",
    "test_online['province'] = test_online['province'].astype('str')\r\n",
    "test_online['type'] = test_online['type'].astype('str')\r\n",
    "test_online['klasifikasi'] = test_online['klasifikasi'].astype('str')\r\n",
    "\r\n",
    "train_online['tanggal'] = pd.to_datetime(train_online['tanggal'])\r\n",
    "test_online['tanggal'] = pd.to_datetime(test_online['tanggal'])\r\n"
   ],
   "outputs": [],
   "metadata": {}
  },
  {
   "cell_type": "code",
   "execution_count": 128,
   "source": [
    "# Now we can agregate them\r\n",
    "train_online_agg = train_online \\\r\n",
    "    .set_index(['tanggal']) \\\r\n",
    "    .groupby(pd.Grouper(freq='M')) \\\r\n",
    "    .sum()\r\n",
    "test_online_agg = test_online \\\r\n",
    "    .set_index(['tanggal']) \\\r\n",
    "    .groupby(pd.Grouper(freq='M')) \\\r\n",
    "    .sum()\r\n",
    "\r\n"
   ],
   "outputs": [],
   "metadata": {}
  },
  {
   "cell_type": "code",
   "execution_count": 129,
   "source": [
    "train_online_agg\r\n"
   ],
   "outputs": [
    {
     "output_type": "execute_result",
     "data": {
      "text/html": [
       "<div>\n",
       "<style scoped>\n",
       "    .dataframe tbody tr th:only-of-type {\n",
       "        vertical-align: middle;\n",
       "    }\n",
       "\n",
       "    .dataframe tbody tr th {\n",
       "        vertical-align: top;\n",
       "    }\n",
       "\n",
       "    .dataframe thead th {\n",
       "        text-align: right;\n",
       "    }\n",
       "</style>\n",
       "<table border=\"1\" class=\"dataframe\">\n",
       "  <thead>\n",
       "    <tr style=\"text-align: right;\">\n",
       "      <th></th>\n",
       "      <th>all_available_room</th>\n",
       "      <th>room_total</th>\n",
       "      <th>used_room</th>\n",
       "    </tr>\n",
       "    <tr>\n",
       "      <th>tanggal</th>\n",
       "      <th></th>\n",
       "      <th></th>\n",
       "      <th></th>\n",
       "    </tr>\n",
       "  </thead>\n",
       "  <tbody>\n",
       "    <tr>\n",
       "      <th>2020-01-31</th>\n",
       "      <td>326629</td>\n",
       "      <td>1303572</td>\n",
       "      <td>976943</td>\n",
       "    </tr>\n",
       "    <tr>\n",
       "      <th>2020-02-29</th>\n",
       "      <td>353685</td>\n",
       "      <td>1093452</td>\n",
       "      <td>739767</td>\n",
       "    </tr>\n",
       "    <tr>\n",
       "      <th>2020-03-31</th>\n",
       "      <td>954093</td>\n",
       "      <td>1674561</td>\n",
       "      <td>720468</td>\n",
       "    </tr>\n",
       "    <tr>\n",
       "      <th>2020-04-30</th>\n",
       "      <td>982067</td>\n",
       "      <td>1318197</td>\n",
       "      <td>336130</td>\n",
       "    </tr>\n",
       "    <tr>\n",
       "      <th>2020-05-31</th>\n",
       "      <td>980395</td>\n",
       "      <td>1494303</td>\n",
       "      <td>513908</td>\n",
       "    </tr>\n",
       "    <tr>\n",
       "      <th>2020-06-30</th>\n",
       "      <td>1029380</td>\n",
       "      <td>1532468</td>\n",
       "      <td>503088</td>\n",
       "    </tr>\n",
       "    <tr>\n",
       "      <th>2020-07-31</th>\n",
       "      <td>1045260</td>\n",
       "      <td>1526930</td>\n",
       "      <td>481670</td>\n",
       "    </tr>\n",
       "    <tr>\n",
       "      <th>2020-08-31</th>\n",
       "      <td>940754</td>\n",
       "      <td>1508190</td>\n",
       "      <td>567436</td>\n",
       "    </tr>\n",
       "    <tr>\n",
       "      <th>2020-09-30</th>\n",
       "      <td>808086</td>\n",
       "      <td>1331083</td>\n",
       "      <td>522997</td>\n",
       "    </tr>\n",
       "    <tr>\n",
       "      <th>2020-10-31</th>\n",
       "      <td>977265</td>\n",
       "      <td>1574713</td>\n",
       "      <td>597448</td>\n",
       "    </tr>\n",
       "    <tr>\n",
       "      <th>2020-11-30</th>\n",
       "      <td>803100</td>\n",
       "      <td>1342317</td>\n",
       "      <td>539217</td>\n",
       "    </tr>\n",
       "    <tr>\n",
       "      <th>2020-12-31</th>\n",
       "      <td>765030</td>\n",
       "      <td>1443940</td>\n",
       "      <td>678910</td>\n",
       "    </tr>\n",
       "  </tbody>\n",
       "</table>\n",
       "</div>"
      ],
      "text/plain": [
       "            all_available_room  room_total  used_room\n",
       "tanggal                                              \n",
       "2020-01-31              326629     1303572     976943\n",
       "2020-02-29              353685     1093452     739767\n",
       "2020-03-31              954093     1674561     720468\n",
       "2020-04-30              982067     1318197     336130\n",
       "2020-05-31              980395     1494303     513908\n",
       "2020-06-30             1029380     1532468     503088\n",
       "2020-07-31             1045260     1526930     481670\n",
       "2020-08-31              940754     1508190     567436\n",
       "2020-09-30              808086     1331083     522997\n",
       "2020-10-31              977265     1574713     597448\n",
       "2020-11-30              803100     1342317     539217\n",
       "2020-12-31              765030     1443940     678910"
      ]
     },
     "metadata": {},
     "execution_count": 129
    }
   ],
   "metadata": {}
  },
  {
   "cell_type": "code",
   "execution_count": 130,
   "source": [
    "# Menghitung TKP untuk Online\r\n",
    "\r\n",
    "train_online_agg['TPK_Online'] = train_online_agg['used_room'] / train_online_agg['room_total']*100\r\n",
    "test_online_agg['TPK_Online'] = test_online_agg['used_room'] /  test_online_agg['room_total']*100\r\n"
   ],
   "outputs": [],
   "metadata": {}
  },
  {
   "cell_type": "code",
   "execution_count": 131,
   "source": [
    "# Membuat Unique ID\r\n",
    "\r\n",
    "train_online_agg = train_online_agg.reset_index()\r\n",
    "test_online_agg = test_online_agg.reset_index()\r\n",
    "\r\n",
    "train_online_agg['Id'] = pd.DatetimeIndex(train_online_agg['tanggal']).month\r\n",
    "test_online_agg['Id'] = pd.DatetimeIndex(test_online_agg['tanggal']).month\r\n"
   ],
   "outputs": [],
   "metadata": {}
  },
  {
   "cell_type": "code",
   "execution_count": 132,
   "source": [
    "# Join Data\r\n",
    "\r\n",
    "data_train = pd.merge(train_online_agg, train_offline, on='Id', how='inner')\r\n",
    "data_predict = pd.merge(test_online_agg, test_offline, on='Id', how='inner')"
   ],
   "outputs": [],
   "metadata": {}
  },
  {
   "cell_type": "code",
   "execution_count": 133,
   "source": [
    "#Memilih field\r\n",
    "\r\n",
    "data_train_selection = data_train[['TPK_Online', 'TPK']]\r\n",
    "data_predict_selection = data_predict[['TPK_Online', 'TPK']]"
   ],
   "outputs": [],
   "metadata": {}
  },
  {
   "cell_type": "code",
   "execution_count": 134,
   "source": [
    "# Mengecek Normalitas Data\r\n",
    "\r\n",
    "y = data_train_selection['TPK']\r\n",
    "plt.figure(1)\r\n",
    "plt.title('Johnson SU')\r\n",
    "sns.distplot(y, kde=False, fit=stats.johnsonsu)\r\n",
    "plt.figure(2)\r\n",
    "plt.title('Normal')\r\n",
    "sns.distplot(y, kde=False, fit=stats.norm)\r\n",
    "plt.figure(3)\r\n",
    "plt.title('Log Normal')\r\n",
    "sns.distplot(y, kde=False, fit=stats.lognorm)\r\n"
   ],
   "outputs": [
    {
     "output_type": "execute_result",
     "data": {
      "text/plain": [
       "<AxesSubplot:title={'center':'Log Normal'}, xlabel='TPK'>"
      ]
     },
     "metadata": {},
     "execution_count": 134
    },
    {
     "output_type": "display_data",
     "data": {
      "image/png": "[encoded data removed]",
      "text/plain": [
       "<Figure size 432x288 with 1 Axes>"
      ]
     },
     "metadata": {
      "needs_background": "light"
     }
    },
    {
     "output_type": "display_data",
     "data": {
      "image/png": "[encoded data removed]",
      "text/plain": [
       "<Figure size 432x288 with 1 Axes>"
      ]
     },
     "metadata": {
      "needs_background": "light"
     }
    },
    {
     "output_type": "display_data",
     "data": {
      "image/png": "[encoded data removed]",
      "text/plain": [
       "<Figure size 432x288 with 1 Axes>"
      ]
     },
     "metadata": {
      "needs_background": "light"
     }
    }
   ],
   "metadata": {}
  },
  {
   "cell_type": "code",
   "execution_count": 135,
   "source": [
    "# Mengecek Normalitas Data\r\n",
    "\r\n",
    "x = data_train_selection['TPK_Online']\r\n",
    "plt.figure(1)\r\n",
    "plt.title('Johnson SU')\r\n",
    "sns.distplot(x, kde=False, fit=stats.johnsonsu)\r\n",
    "plt.figure(2)\r\n",
    "plt.title('Normal')\r\n",
    "sns.distplot(x, kde=False, fit=stats.norm)\r\n",
    "plt.figure(3)\r\n",
    "plt.title('Log Normal')\r\n",
    "sns.distplot(x, kde=False, fit=stats.lognorm)\r\n"
   ],
   "outputs": [
    {
     "output_type": "execute_result",
     "data": {
      "text/plain": [
       "<AxesSubplot:title={'center':'Log Normal'}, xlabel='TPK_Online'>"
      ]
     },
     "metadata": {},
     "execution_count": 135
    },
    {
     "output_type": "display_data",
     "data": {
      "image/png": "[encoded data removed]",
      "text/plain": [
       "<Figure size 432x288 with 1 Axes>"
      ]
     },
     "metadata": {
      "needs_background": "light"
     }
    },
    {
     "output_type": "display_data",
     "data": {
      "image/png": "[encoded data removed]",
      "text/plain": [
       "<Figure size 432x288 with 1 Axes>"
      ]
     },
     "metadata": {
      "needs_background": "light"
     }
    },
    {
     "output_type": "display_data",
     "data": {
      "image/png": "[encoded data removed]",
      "text/plain": [
       "<Figure size 432x288 with 1 Axes>"
      ]
     },
     "metadata": {
      "needs_background": "light"
     }
    }
   ],
   "metadata": {}
  },
  {
   "cell_type": "code",
   "execution_count": 136,
   "source": [
    "from scipy.stats import kstest, shapiro\r\n",
    "\r\n",
    "print(\"Data y berdistribusi normal \" if(shapiro(data_train_selection['TPK']).pvalue > 0.01) else \"Data Y tidak berdistribusi normal\" )\r\n",
    "print(\"Data x berdistribusi normal \" if(shapiro(data_train_selection['TPK_Online']).pvalue > 0.01) else \"Data X tidak berdistribusi normal\" )\r\n"
   ],
   "outputs": [
    {
     "output_type": "stream",
     "name": "stdout",
     "text": [
      "Data Y tidak berdistribusi normal\n",
      "Data X tidak berdistribusi normal\n"
     ]
    }
   ],
   "metadata": {}
  },
  {
   "cell_type": "code",
   "execution_count": 137,
   "source": [
    "# data_train_selection['TPK'] = np.log1p(data_train_selection['TPK'])"
   ],
   "outputs": [],
   "metadata": {}
  },
  {
   "cell_type": "code",
   "execution_count": 138,
   "source": [
    "# Split Data to train and test\r\n",
    "\r\n",
    "from sklearn.model_selection import train_test_split\r\n",
    "random_seed = 42\r\n",
    "\r\n",
    "X_train, X_test, y_train, y_test = train_test_split(\r\n",
    "    data_train_selection.TPK_Online,\r\n",
    "    data_train_selection.TPK,\r\n",
    "    test_size=0.17,\r\n",
    "    random_state=random_seed\r\n",
    ")\r\n"
   ],
   "outputs": [],
   "metadata": {}
  },
  {
   "cell_type": "code",
   "execution_count": 139,
   "source": [
    "X_test,y_test\r\n"
   ],
   "outputs": [
    {
     "output_type": "execute_result",
     "data": {
      "text/plain": [
       "(10     67.141950\n",
       " 9      61.134697\n",
       " 0     299.098672\n",
       " Name: TPK_Online, dtype: float64,\n",
       " 10     9.32\n",
       " 9      9.53\n",
       " 0     59.29\n",
       " Name: TPK, dtype: float64)"
      ]
     },
     "metadata": {},
     "execution_count": 139
    }
   ],
   "metadata": {}
  },
  {
   "cell_type": "code",
   "execution_count": 140,
   "source": [
    "# Scaling Data\r\n",
    "\r\n",
    "from sklearn.preprocessing import MinMaxScaler\r\n",
    "# from sklearn.preprocessing import StandardScaler\r\n",
    "\r\n",
    "scalerX = MinMaxScaler().fit(X_train.values.reshape(-1, 1))\r\n",
    "scalery = MinMaxScaler().fit(y_train.values.reshape(-1, 1))\r\n",
    "\r\n",
    "X_train = scalerX.transform(X_train.values.reshape(-1, 1))\r\n",
    "y_train = scalery.transform(y_train.values.reshape(-1, 1))\r\n",
    "\r\n",
    "X_test = scalerX.transform(X_test.values.reshape(-1, 1))\r\n",
    "y_test = scalery.transform(y_test.values.reshape(-1, 1))\r\n"
   ],
   "outputs": [],
   "metadata": {}
  },
  {
   "cell_type": "code",
   "execution_count": 141,
   "source": [
    "X_test, y_test\r\n"
   ],
   "outputs": [
    {
     "output_type": "execute_result",
     "data": {
      "text/plain": [
       "(array([[0.18815861],\n",
       "        [0.15381832],\n",
       "        [1.51413282]]),\n",
       " array([[0.16511045],\n",
       "        [0.16989296],\n",
       "        [1.30312002]]))"
      ]
     },
     "metadata": {},
     "execution_count": 141
    }
   ],
   "metadata": {}
  },
  {
   "cell_type": "code",
   "execution_count": 142,
   "source": [
    "# Analysis Process\r\n",
    "\r\n",
    "# Default n_splits  = 10\r\n",
    "kfolds = KFold(shuffle=True, random_state=42)\r\n",
    "\r\n",
    "def rmsle(y, y_pred):\r\n",
    "    return np.sqrt(mean_squared_error(y, y_pred))\r\n",
    "\r\n",
    "\r\n",
    "def cv_rmse(model, X=X_train):\r\n",
    "    rmse = np.sqrt(-cross_val_score(model, X, y_train,\r\n",
    "                   scoring=\"neg_mean_squared_error\", cv=kfolds))\r\n",
    "    return (rmse)\r\n"
   ],
   "outputs": [],
   "metadata": {}
  },
  {
   "cell_type": "code",
   "execution_count": 143,
   "source": [
    "alphas_alt = [5, 8, 10, 10.1, 10.2, 10.3, 10.35, 10.36, 14.5, 14.6, 14.7, 14.8, 14.9, 15, 15.1, 15.2, 15.3, 15.4, 15.5]\r\n",
    "alphas2 = [5e-05, 0.0001, 0.0002, 0.0003,\r\n",
    "           0.0004, 0.0005, 0.0006, 0.0007, 0.0008]\r\n",
    "e_alphas = [0.0001, 0.0002, 0.0003, 0.0004, 0.0005, 0.0006, 0.0007]\r\n",
    "e_l1ratio = [0.8, 0.85, 0.9, 0.95, 0.99, 1]\r\n"
   ],
   "outputs": [],
   "metadata": {}
  },
  {
   "cell_type": "code",
   "execution_count": 144,
   "source": [
    "ridge = make_pipeline(RobustScaler(), RidgeCV(cv=kfolds))\r\n",
    "lasso = make_pipeline(RobustScaler(), LassoCV(cv=kfolds))\r\n",
    "elasticnet = make_pipeline(RobustScaler(), ElasticNetCV( cv=kfolds))\r\n",
    "svr = make_pipeline(RobustScaler(), SVR(C=20, epsilon=0.005, gamma=0.003,))\r\n"
   ],
   "outputs": [],
   "metadata": {}
  },
  {
   "cell_type": "code",
   "execution_count": 145,
   "source": [
    "gbr = GradientBoostingRegressor()\r\n"
   ],
   "outputs": [],
   "metadata": {}
  },
  {
   "cell_type": "code",
   "execution_count": 146,
   "source": [
    "lightgbm = LGBMRegressor(objective='regression')\r\n"
   ],
   "outputs": [],
   "metadata": {}
  },
  {
   "cell_type": "code",
   "execution_count": 147,
   "source": [
    "xgboost = XGBRegressor( objective='reg:linear', nthread=-1)\r\n"
   ],
   "outputs": [],
   "metadata": {}
  },
  {
   "cell_type": "code",
   "execution_count": 148,
   "source": [
    "stack_gen = StackingCVRegressor(regressors=(ridge, lasso, elasticnet, gbr, xgboost, lightgbm),\r\n",
    "                                meta_regressor=xgboost,\r\n",
    "                                use_features_in_secondary=True)\r\n"
   ],
   "outputs": [],
   "metadata": {}
  },
  {
   "cell_type": "code",
   "execution_count": 149,
   "source": [
    "# score = cv_rmse(ridge)\r\n",
    "score = cv_rmse(lasso)\r\n",
    "print(\"LASSO: {:.4f} ({:.4f})\\n\".format(\r\n",
    "    score.mean(), score.std()), datetime.now(), )\r\n",
    "\r\n",
    "score = cv_rmse(elasticnet)\r\n",
    "print(\"elastic net: {:.4f} ({:.4f})\\n\".format(\r\n",
    "    score.mean(), score.std()), datetime.now(), )\r\n",
    "\r\n",
    "score = cv_rmse(svr)\r\n",
    "print(\"SVR: {:.4f} ({:.4f})\\n\".format(\r\n",
    "    score.mean(), score.std()), datetime.now(), )\r\n",
    "\r\n",
    "score = cv_rmse(lightgbm)\r\n",
    "print(\"lightgbm: {:.4f} ({:.4f})\\n\".format(\r\n",
    "    score.mean(), score.std()), datetime.now(), )\r\n",
    "\r\n",
    "score = cv_rmse(gbr)\r\n",
    "print(\"gbr: {:.4f} ({:.4f})\\n\".format(\r\n",
    "    score.mean(), score.std()), datetime.now(), )\r\n",
    "\r\n",
    "score = cv_rmse(xgboost)\r\n",
    "print(\"xgboost: {:.4f} ({:.4f})\\n\".format(\r\n",
    "    score.mean(), score.std()), datetime.now(), )\r\n"
   ],
   "outputs": [
    {
     "output_type": "stream",
     "name": "stdout",
     "text": [
      "LASSO: 0.2111 (0.1562)\n",
      " 2021-10-04 17:59:25.416733\n",
      "elastic net: 0.2111 (0.1560)\n",
      " 2021-10-04 17:59:25.985748\n",
      "SVR: 0.1743 (0.1125)\n",
      " 2021-10-04 17:59:26.012749\n",
      "lightgbm: 0.3364 (0.1683)\n",
      " 2021-10-04 17:59:26.087732\n",
      "gbr: 0.1493 (0.1525)\n",
      " 2021-10-04 17:59:26.435721\n",
      "[17:59:26] WARNING: C:/Users/Administrator/workspace/xgboost-win64_release_1.4.0/src/objective/regression_obj.cu:171: reg:linear is now deprecated in favor of reg:squarederror.\n",
      "[17:59:26] WARNING: C:/Users/Administrator/workspace/xgboost-win64_release_1.4.0/src/objective/regression_obj.cu:171: reg:linear is now deprecated in favor of reg:squarederror.\n",
      "[17:59:26] WARNING: C:/Users/Administrator/workspace/xgboost-win64_release_1.4.0/src/objective/regression_obj.cu:171: reg:linear is now deprecated in favor of reg:squarederror.\n",
      "[17:59:26] WARNING: C:/Users/Administrator/workspace/xgboost-win64_release_1.4.0/src/objective/regression_obj.cu:171: reg:linear is now deprecated in favor of reg:squarederror.\n",
      "[17:59:26] WARNING: C:/Users/Administrator/workspace/xgboost-win64_release_1.4.0/src/objective/regression_obj.cu:171: reg:linear is now deprecated in favor of reg:squarederror.\n",
      "xgboost: 0.1496 (0.1527)\n",
      " 2021-10-04 17:59:26.840212\n"
     ]
    }
   ],
   "metadata": {}
  },
  {
   "cell_type": "code",
   "execution_count": 150,
   "source": [
    "print('START Fit')\r\n",
    "\r\n",
    "print('stack_gen')\r\n",
    "stack_gen_model = stack_gen.fit((X_train), (y_train))\r\n",
    "\r\n",
    "print('elasticnet')\r\n",
    "elastic_model_full_data = elasticnet.fit(X_train, y_train)\r\n",
    "\r\n",
    "print('Lasso')\r\n",
    "lasso_model_full_data = lasso.fit(X_train, y_train)\r\n",
    "\r\n",
    "print('Ridge')\r\n",
    "ridge_model_full_data = ridge.fit(X_train, y_train)\r\n",
    "\r\n",
    "print('Svr')\r\n",
    "svr_model_full_data = svr.fit(X_train, y_train)\r\n",
    "\r\n",
    "print('GradientBoosting')\r\n",
    "gbr_model_full_data = gbr.fit(X_train, y_train)\r\n",
    "\r\n",
    "print('xgboost')\r\n",
    "xgb_model_full_data = xgboost.fit(X_train, y_train)\r\n",
    "\r\n",
    "print('lightgbm')\r\n",
    "lgb_model_full_data = lightgbm.fit(X_train, y_train)\r\n"
   ],
   "outputs": [
    {
     "output_type": "stream",
     "name": "stdout",
     "text": [
      "START Fit\n",
      "stack_gen\n",
      "[17:59:28] WARNING: C:/Users/Administrator/workspace/xgboost-win64_release_1.4.0/src/objective/regression_obj.cu:171: reg:linear is now deprecated in favor of reg:squarederror.\n",
      "[17:59:28] WARNING: C:/Users/Administrator/workspace/xgboost-win64_release_1.4.0/src/objective/regression_obj.cu:171: reg:linear is now deprecated in favor of reg:squarederror.\n",
      "[17:59:28] WARNING: C:/Users/Administrator/workspace/xgboost-win64_release_1.4.0/src/objective/regression_obj.cu:171: reg:linear is now deprecated in favor of reg:squarederror.\n",
      "[17:59:28] WARNING: C:/Users/Administrator/workspace/xgboost-win64_release_1.4.0/src/objective/regression_obj.cu:171: reg:linear is now deprecated in favor of reg:squarederror.\n",
      "[17:59:28] WARNING: C:/Users/Administrator/workspace/xgboost-win64_release_1.4.0/src/objective/regression_obj.cu:171: reg:linear is now deprecated in favor of reg:squarederror.\n",
      "[17:59:28] WARNING: C:/Users/Administrator/workspace/xgboost-win64_release_1.4.0/src/objective/regression_obj.cu:171: reg:linear is now deprecated in favor of reg:squarederror.\n",
      "[17:59:29] WARNING: C:/Users/Administrator/workspace/xgboost-win64_release_1.4.0/src/objective/regression_obj.cu:171: reg:linear is now deprecated in favor of reg:squarederror.\n",
      "elasticnet\n",
      "Lasso\n",
      "Ridge\n",
      "Svr\n",
      "GradientBoosting\n",
      "xgboost\n",
      "[17:59:29] WARNING: C:/Users/Administrator/workspace/xgboost-win64_release_1.4.0/src/objective/regression_obj.cu:171: reg:linear is now deprecated in favor of reg:squarederror.\n",
      "lightgbm\n"
     ]
    }
   ],
   "metadata": {}
  },
  {
   "cell_type": "code",
   "execution_count": 151,
   "source": [
    "def blend_models_predict(X):\r\n",
    "    return (\r\n",
    "        (0.5 * svr_model_full_data.predict(X)) +\r\n",
    "        (0.3 * lasso_model_full_data.predict(X))+\r\n",
    "        (0.1 * elastic_model_full_data.predict(X)) +\r\n",
    "        (0.1 * ridge_model_full_data.predict(X).flatten())\r\n",
    "    )"
   ],
   "outputs": [],
   "metadata": {}
  },
  {
   "cell_type": "code",
   "execution_count": 152,
   "source": [
    "print('Rmse for SVR : ', rmsle(y_test, svr_model_full_data.predict(X_test)))\r\n",
    "print('Rmse for Lasso : ', rmsle(y_test, lasso_model_full_data.predict(X_test)))\r\n",
    "print('Rmse for Elastic : ', rmsle(y_test, elastic_model_full_data.predict(X_test)))\r\n",
    "print('Rmse for Ridge : ', rmsle(y_test, ridge_model_full_data.predict(X_test)))\r\n",
    "print('Rmse for XGBoost : ', rmsle(y_test, xgb_model_full_data.predict(X_test)))\r\n",
    "print('Rmse for GradientBoosting : ', rmsle(y_test, gbr_model_full_data.predict(X_test)))\r\n",
    "print('Rmse for Stack : ', rmsle(y_test, stack_gen_model.predict(X_test)))\r\n",
    "print('Rmse for LightGBM : ', rmsle(y_test, lgb_model_full_data.predict(X_test)))\r\n"
   ],
   "outputs": [
    {
     "output_type": "stream",
     "name": "stdout",
     "text": [
      "Rmse for SVR :  0.0858097482447788\n",
      "Rmse for Lasso :  0.13450052690938522\n",
      "Rmse for Elastic :  0.13431877118055593\n",
      "Rmse for Ridge :  0.16858103048215559\n",
      "Rmse for XGBoost :  0.19910008756942138\n",
      "Rmse for GradientBoosting :  0.1984165657750923\n",
      "Rmse for Stack :  0.1974505866146822\n",
      "Rmse for LightGBM :  0.6219808619882929\n"
     ]
    }
   ],
   "metadata": {}
  },
  {
   "cell_type": "code",
   "execution_count": 153,
   "source": [
    "print('RMSLE score on train data:')\r\n",
    "print(rmsle(y_test, blend_models_predict(X_test)))\r\n"
   ],
   "outputs": [
    {
     "output_type": "stream",
     "name": "stdout",
     "text": [
      "RMSLE score on train data:\n",
      "0.110015091844182\n"
     ]
    }
   ],
   "metadata": {}
  },
  {
   "cell_type": "code",
   "execution_count": 154,
   "source": [
    "from sklearn.preprocessing import MinMaxScaler\r\n",
    "\r\n",
    "print('Predict submission')\r\n",
    "submission = pd.read_csv(\"Dataset/sample-submission.csv\")\r\n",
    "\r\n",
    "X_predict = scalerX.transform(data_predict_selection['TPK_Online'].values.reshape(-1, 1))\r\n",
    "\r\n",
    "submission.iloc[:, 1] = scalery.inverse_transform(blend_models_predict(X_predict).reshape(-1, 1))\r\n",
    "\r\n",
    "submission.to_csv('Output/submission-final.csv', index=False)\r\n",
    "print('Successfully Predicted !')"
   ],
   "outputs": [
    {
     "output_type": "stream",
     "name": "stdout",
     "text": [
      "Predict submission\n",
      "Successfully Predicted !\n"
     ]
    }
   ],
   "metadata": {}
  }
 ],
 "metadata": {
  "orig_nbformat": 4,
  "language_info": {
   "name": "python",
   "version": "3.9.4",
   "mimetype": "text/x-python",
   "codemirror_mode": {
    "name": "ipython",
    "version": 3
   },
   "pygments_lexer": "ipython3",
   "nbconvert_exporter": "python",
   "file_extension": ".py"
  },
  "kernelspec": {
   "name": "python3",
   "display_name": "Python 3.9.4 64-bit"
  },
  "interpreter": {
   "hash": "d1094e5b5163445ecbe3263ffc10ca0e619ecc2b2f96d1c3596ccc25d2b1ba49"
  }
 },
 "nbformat": 4,
 "nbformat_minor": 2
}